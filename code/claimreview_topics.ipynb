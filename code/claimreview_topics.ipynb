{
 "cells": [
  {
   "attachments": {},
   "cell_type": "markdown",
   "metadata": {},
   "source": [
    "# Topic Clustering\n",
    "\n",
    "Clusters ClaimReview claims to identify topics.\n",
    "\n",
    "**Note about Reproducibility**:\n",
    "Although setting a `random_state` ensures UMAP is consistent between runs, it still varies across OSes and CPU architectures as it depends on native numpy implementation. There are various issues on the `umap-learn` repository about this ([example](https://github.com/lmcinnes/umap/issues/525)), but they deem it unfixable.\n",
    "\n",
    "When running this notebook, it will likely produce different clusters. In the public version of this repository, we will include a download link to the trained topic model."
   ]
  },
  {
   "cell_type": "code",
   "execution_count": null,
   "metadata": {},
   "outputs": [],
   "source": [
    "import pandas as pd\n",
    "from bertopic import BERTopic\n",
    "from umap import UMAP"
   ]
  },
  {
   "cell_type": "code",
   "execution_count": null,
   "metadata": {},
   "outputs": [],
   "source": [
    "df = pd.read_csv(\"../data/claimreview_en_subcols.csv\")\n",
    "claims = df[\"claimReviewed\"]"
   ]
  },
  {
   "cell_type": "code",
   "execution_count": null,
   "metadata": {},
   "outputs": [],
   "source": [
    "umap_model = UMAP(random_state=42)\n",
    "topic_model = BERTopic(umap_model=umap_model)"
   ]
  },
  {
   "cell_type": "code",
   "execution_count": null,
   "metadata": {},
   "outputs": [],
   "source": [
    "topics, probs = topic_model.fit_transform(claims)"
   ]
  },
  {
   "cell_type": "code",
   "execution_count": null,
   "metadata": {},
   "outputs": [],
   "source": [
    "topic_model.get_topic_info().to_csv('../additional_data/topic_list.csv', index=False)"
   ]
  },
  {
   "cell_type": "code",
   "execution_count": null,
   "metadata": {},
   "outputs": [],
   "source": [
    "topic_model.save(\"topics.bertopic\")"
   ]
  },
  {
   "attachments": {},
   "cell_type": "markdown",
   "metadata": {},
   "source": [
    "#### Topics related to the war in Ukraine\n",
    "\n",
    "| id  | count | topic                                      |\n",
    "| --- | ----- | ------------------------------------------ |\n",
    "| 4   | 217   | 4_ukraine_ukrainian_aid_putin              |\n",
    "| 38  | 74    | 38_ukraine_ukrainian_russian_russia        |\n",
    "| 270 | 11    | 270_fighter_jet_russian_ukrainian          |\n",
    "| 279 | 10    | 279_volodymyr_suspended_russian_vladimir   |\n",
    "\n",
    "Insert IDs of relevant topics in the cell below:"
   ]
  },
  {
   "cell_type": "code",
   "execution_count": null,
   "metadata": {},
   "outputs": [],
   "source": [
    "ukr = [4,38,270,279]"
   ]
  },
  {
   "cell_type": "code",
   "execution_count": null,
   "metadata": {},
   "outputs": [],
   "source": [
    "doc_info = topic_model.get_document_info(claims)\n",
    "doc_info"
   ]
  },
  {
   "cell_type": "code",
   "execution_count": null,
   "metadata": {},
   "outputs": [],
   "source": [
    "ukr_docs = doc_info[doc_info.Topic.isin(ukr)].sort_values(\"Topic\")\n",
    "ukr_docs = ukr_docs.join(df[[\"datePublished\"]], how=\"left\")"
   ]
  },
  {
   "cell_type": "code",
   "execution_count": null,
   "metadata": {},
   "outputs": [],
   "source": [
    "ukr_docs.to_csv(\"../data/claimreview_ukr.csv\", index=False)"
   ]
  },
  {
   "cell_type": "markdown",
   "metadata": {},
   "source": [
    "These documents should then be checked manually for relevance."
   ]
  }
 ],
 "metadata": {
  "kernelspec": {
   "display_name": "disinfo",
   "language": "python",
   "name": "python3"
  },
  "language_info": {
   "codemirror_mode": {
    "name": "ipython",
    "version": 3
   },
   "file_extension": ".py",
   "mimetype": "text/x-python",
   "name": "python",
   "nbconvert_exporter": "python",
   "pygments_lexer": "ipython3",
   "version": "3.10.9"
  },
  "orig_nbformat": 4
 },
 "nbformat": 4,
 "nbformat_minor": 2
}
