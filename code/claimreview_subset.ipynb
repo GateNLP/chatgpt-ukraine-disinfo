{
 "cells": [
  {
   "cell_type": "markdown",
   "metadata": {},
   "source": [
    "# ClaimReview Subset\n",
    "\n",
    "You will need to download:\n",
    "\n",
    "* The ClaimReview feed from: https://www.datacommons.org/factcheck/download\n",
    "* LangDetect model (lid.176.bin) from: https://fasttext.cc/docs/en/language-identification.html"
   ]
  },
  {
   "cell_type": "code",
   "execution_count": null,
   "metadata": {},
   "outputs": [],
   "source": [
    "import json\n",
    "import pandas as pd\n",
    "from tqdm.auto import tqdm\n",
    "tqdm.pandas()"
   ]
  },
  {
   "cell_type": "code",
   "execution_count": null,
   "metadata": {},
   "outputs": [],
   "source": [
    "datafile = \"factcheck_datafeed.json\""
   ]
  },
  {
   "cell_type": "code",
   "execution_count": null,
   "metadata": {},
   "outputs": [],
   "source": [
    "# Load the JSON data from file\n",
    "with open(datafile, 'r') as f:\n",
    "    data = json.load(f)"
   ]
  },
  {
   "cell_type": "code",
   "execution_count": null,
   "metadata": {},
   "outputs": [],
   "source": [
    "# Normalize the JSON data into a flattened Pandas DataFrame\n",
    "df = pd.json_normalize(data, record_path=['dataFeedElement', 'item'])\n",
    "df"
   ]
  },
  {
   "cell_type": "code",
   "execution_count": null,
   "metadata": {},
   "outputs": [],
   "source": [
    "df.columns"
   ]
  },
  {
   "attachments": {},
   "cell_type": "markdown",
   "metadata": {},
   "source": [
    "The following colums are the most interesting for the claimreview schema, but the expalanation may not be complete, so please check the schema.org documentation for more information.\n",
    "| Field | Explanation |\n",
    "|-------|-------------|\n",
    "| claimReviewed | Specifies the claim being reviewed |\n",
    "| url | Specifies the URL of the page containing the review |\n",
    "| author.@type | Specifies the type of the author, e.g. Person or Organization |\n",
    "| author.image | Specifies the URL of the author's image |\n",
    "| author.name | Specifies the name of the author |\n",
    "| author.url | Specifies the URL of the author's website or profile |\n",
    "| itemReviewed.@type | Specifies the type of the item being reviewed, e.g. CreativeWork or Product |\n",
    "| itemReviewed.author.@type | Specifies the type of the author of the item being reviewed, e.g. Person or Organization |\n",
    "| itemReviewed.author.image | Specifies the URL of the image of the author of the item being reviewed |\n",
    "| itemReviewed.author.jobTitle | Specifies the job title of the author of the item being reviewed |\n",
    "| itemReviewed.author.name | Specifies the name of the author of the item being reviewed |\n",
    "| itemReviewed.datePublished | Specifies the date the item being reviewed was published |\n",
    "| reviewRating.@type | Specifies the type of the rating, e.g. Rating or AggregateRating |\n",
    "| reviewRating.alternateName | Specifies an alternate name for the rating |\n",
    "| reviewRating.bestRating | Specifies the best possible rating value |\n",
    "| reviewRating.image | Specifies the URL of the image representing the rating |\n",
    "| reviewRating.ratingValue | Specifies the actual rating value |\n",
    "| reviewRating.worstRating | Specifies the worst possible rating value |\n",
    "| itemReviewed.name | Specifies the name of the item being reviewed |\n",
    "| reviewRating.ratingExplanation | Specifies an explanation of the rating |\n",
    "| datePublished | Specifies the date the review was published |\n",
    "| itemReviewed.appearance | Specifies the appearance of the item being reviewed, e.g. review or snippet |\n",
    "| itemReviewed.firstAppearance.@type | Specifies the type of the first appearance of the item being reviewed |\n",
    "| itemReviewed.firstAppearance.url | Specifies the URL of the first appearance of the item being reviewed |\n",
    "| itemReviewed.author.sameAs | Specifies the URL of a page that contains further information about the author of the item being reviewed |"
   ]
  },
  {
   "cell_type": "code",
   "execution_count": null,
   "metadata": {},
   "outputs": [],
   "source": [
    "subcols = ['claimReviewed', 'url', 'author.@type', 'author.image', 'author.name', 'author.url', 'itemReviewed.@type',\n",
    "           'itemReviewed.author.@type','itemReviewed.author.image','itemReviewed.author.jobTitle','itemReviewed.author.name',\n",
    "           'itemReviewed.datePublished','reviewRating.@type','reviewRating.alternateName','reviewRating.bestRating','reviewRating.image',\n",
    "           'reviewRating.ratingValue','reviewRating.worstRating','itemReviewed.name','reviewRating.ratingExplanation','datePublished',\n",
    "           'itemReviewed.appearance','itemReviewed.firstAppearance.@type','itemReviewed.firstAppearance.url','itemReviewed.author.sameAs']\n",
    "\n",
    "len(subcols)"
   ]
  },
  {
   "cell_type": "code",
   "execution_count": null,
   "metadata": {},
   "outputs": [],
   "source": [
    "df = df[subcols]\n",
    "df"
   ]
  },
  {
   "cell_type": "code",
   "execution_count": null,
   "metadata": {},
   "outputs": [],
   "source": [
    "# remove cols where the claimReviewed is null\n",
    "df = df[~df.claimReviewed.isnull()].copy()\n",
    "df.shape"
   ]
  },
  {
   "cell_type": "code",
   "execution_count": null,
   "metadata": {},
   "outputs": [],
   "source": [
    "import fasttext\n",
    "fasttext_model = fasttext.load_model('lid.176.bin')"
   ]
  },
  {
   "cell_type": "code",
   "execution_count": null,
   "metadata": {},
   "outputs": [],
   "source": [
    "def fasttext_detect(text, model):\n",
    "    try:\n",
    "        # remove newline characters\n",
    "        if text:\n",
    "            text = text.replace('\\n', ' ')\n",
    "            # predict language using fasttext model\n",
    "            return model.predict(text)[0][0].split('__')[-1]\n",
    "        else:\n",
    "            return 'unknown'\n",
    "    except Exception as e:\n",
    "        print(text, e)"
   ]
  },
  {
   "cell_type": "code",
   "execution_count": null,
   "metadata": {},
   "outputs": [],
   "source": [
    "df['claimReviewed_lang'] = df['claimReviewed'].progress_apply(lambda x: fasttext_detect(x, fasttext_model))"
   ]
  },
  {
   "cell_type": "code",
   "execution_count": null,
   "metadata": {},
   "outputs": [],
   "source": [
    "df.claimReviewed_lang.value_counts()"
   ]
  },
  {
   "cell_type": "code",
   "execution_count": null,
   "metadata": {},
   "outputs": [],
   "source": [
    "subcols.insert(1, 'claimReviewed_lang')\n",
    "subcols"
   ]
  },
  {
   "cell_type": "code",
   "execution_count": null,
   "metadata": {},
   "outputs": [],
   "source": [
    "# leave only english claims\n",
    "df_en = df[df.claimReviewed_lang == 'en']"
   ]
  },
  {
   "cell_type": "code",
   "execution_count": null,
   "metadata": {},
   "outputs": [],
   "source": [
    "df_en.shape"
   ]
  },
  {
   "cell_type": "code",
   "execution_count": null,
   "metadata": {},
   "outputs": [],
   "source": [
    "df_en.to_csv('../data/claimreview_en_subcols.csv', index=False)"
   ]
  }
 ],
 "metadata": {
  "kernelspec": {
   "display_name": "Python 3 (ipykernel)",
   "language": "python",
   "name": "python3"
  },
  "language_info": {
   "codemirror_mode": {
    "name": "ipython",
    "version": 3
   },
   "file_extension": ".py",
   "mimetype": "text/x-python",
   "name": "python",
   "nbconvert_exporter": "python",
   "pygments_lexer": "ipython3",
   "version": "3.10.9"
  }
 },
 "nbformat": 4,
 "nbformat_minor": 4
}
